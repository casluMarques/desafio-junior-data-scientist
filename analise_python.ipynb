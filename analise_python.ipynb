{
 "cells": [
  {
   "cell_type": "code",
   "execution_count": 37,
   "id": "2ad31115-2f3d-4f86-9dd0-87cbe50fb425",
   "metadata": {},
   "outputs": [],
   "source": [
    "import requests\n",
    "from datetime import datetime\n",
    "from collections import Counter"
   ]
  },
  {
   "cell_type": "code",
   "execution_count": 39,
   "id": "dc9a008f-a74b-4e30-ae24-e082c0b767ba",
   "metadata": {},
   "outputs": [],
   "source": [
    "url = \"https://date.nager.at/api/v3/PublicHolidays/2024/BR\""
   ]
  },
  {
   "cell_type": "code",
   "execution_count": 41,
   "id": "70e23eb1-6ded-440d-b67b-a1c290597bff",
   "metadata": {},
   "outputs": [],
   "source": [
    "response = requests.get(url)"
   ]
  },
  {
   "cell_type": "code",
   "execution_count": 93,
   "id": "fea73bf8-99d2-4c54-8657-37624f8df134",
   "metadata": {},
   "outputs": [
    {
     "name": "stdout",
     "output_type": "stream",
     "text": [
      "Feriados no Brasil em 2024 totalizam 15\n",
      "2024-01-01 : New Year's Day\n",
      "2024-02-12 : Carnival\n",
      "2024-02-13 : Carnival\n",
      "2024-03-29 : Good Friday\n",
      "2024-03-31 : Easter Sunday\n",
      "2024-04-21 : Tiradentes\n",
      "2024-05-01 : Labour Day\n",
      "2024-05-30 : Corpus Christi\n",
      "2024-07-09 : Constitutionalist Revolution of 1932\n",
      "2024-09-07 : Independence Day\n",
      "2024-10-12 : Our Lady of Aparecida\n",
      "2024-11-02 : All Souls' Day\n",
      "2024-11-15 : Republic Proclamation Day\n",
      "2024-11-20 : Black Awareness Day\n",
      "2024-12-25 : Christmas Day\n",
      "Total de feriados no Brasil : 15\n"
     ]
    }
   ],
   "source": [
    "feriados = response.json()\n",
    "print(f\"Feriados no Brasil em 2024 totalizam {len(feriados)}\")\n",
    "for feriado in feriados:\n",
    "    print(f'{feriado['date']} : {feriado['name']}')\n",
    "print(f'Total de feriados no Brasil : {len(feriados)}')"
   ]
  },
  {
   "cell_type": "code",
   "execution_count": 95,
   "id": "9e2d8942-9e99-4ed6-acda-bb26e7c36dc3",
   "metadata": {},
   "outputs": [
    {
     "name": "stdout",
     "output_type": "stream",
     "text": [
      "Feriados por mês em 2024:\n",
      "Mês 01: 1 feriados\n",
      "Mês 02: 2 feriados\n",
      "Mês 03: 2 feriados\n",
      "Mês 04: 1 feriados\n",
      "Mês 05: 2 feriados\n",
      "Mês 07: 1 feriados\n",
      "Mês 09: 1 feriados\n",
      "Mês 10: 1 feriados\n",
      "Mês 11: 3 feriados\n",
      "Mês 12: 1 feriados\n",
      "\n",
      " O mês com mais feriados é 11, com 3 feriados!\n"
     ]
    }
   ],
   "source": [
    "#pergunta 2\n",
    "# Extrai os meses dos feriados\n",
    "meses = [datetime.strptime(feriado[\"date\"], \"%Y-%m-%d\").strftime(\"%m\") for feriado in feriados]\n",
    "        \n",
    "# Conta a frequência de cada mês\n",
    "contagem_meses = Counter(meses)\n",
    "        \n",
    "# Encontra o mês com mais feriados\n",
    "mes_mais_feriados = max(contagem_meses, key=contagem_meses.get)\n",
    "        \n",
    "print(\"Feriados por mês em 2024:\")\n",
    "for mes, total in sorted(contagem_meses.items()):\n",
    "    print(f\"Mês {mes}: {total} feriados\")\n",
    "        \n",
    "print(f\"\\n O mês com mais feriados é {mes_mais_feriados}, com {contagem_meses[mes_mais_feriados]} feriados!\")"
   ]
  },
  {
   "cell_type": "code",
   "execution_count": 97,
   "id": "122cda2c-f556-4bd7-b5ee-cf40b9a3dbc2",
   "metadata": {},
   "outputs": [],
   "source": [
    "#pergunta 3\n",
    "# Dicionário para mapear números de dias da semana para nomes\n",
    "dias_semana = {\n",
    "            0: \"Segunda-feira\",\n",
    "            1: \"Terça-feira\",\n",
    "            2: \"Quarta-feira\",\n",
    "            3: \"Quinta-feira\",\n",
    "            4: \"Sexta-feira\",\n",
    "            5: \"Sábado\",\n",
    "            6: \"Domingo\"\n",
    "        }"
   ]
  },
  {
   "cell_type": "code",
   "execution_count": 99,
   "id": "bf17b16d-7485-414b-bfe6-6a87f0d65ea2",
   "metadata": {},
   "outputs": [],
   "source": [
    "#extraidno os dias\n",
    "dias = [datetime.strptime(feriado[\"date\"], \"%Y-%m-%d\").weekday() for feriado in feriados]\n",
    "#Contando a frequencia\n",
    "contagem_dias = Counter(dias)\n",
    "#filtro de dias úteis, usadno dictionary comprehension:\n",
    "dias_uteis = {k: v for k, v in contagem_dias.items() if k < 5}\n",
    "# Calcula o total de feriados em dias úteis\n",
    "total_uteis = sum(dias_uteis.values())"
   ]
  },
  {
   "cell_type": "code",
   "execution_count": 101,
   "id": "5a25fee1-de2f-41a7-9d75-d5d920762bc3",
   "metadata": {},
   "outputs": [
    {
     "name": "stdout",
     "output_type": "stream",
     "text": [
      "O total de feriados em dias uteis eh: 10\n"
     ]
    }
   ],
   "source": [
    "print(f'O total de feriados em dias uteis eh: {total_uteis}')"
   ]
  },
  {
   "cell_type": "code",
   "execution_count": 167,
   "id": "a37d737a-cbc6-4a75-899a-e678307f1ba5",
   "metadata": {},
   "outputs": [],
   "source": [
    "#pergunta 4\n",
    "import pandas as pd"
   ]
  },
  {
   "cell_type": "code",
   "execution_count": 169,
   "id": "7ee154bd-12e9-4a36-bbd0-47bd932a5d82",
   "metadata": {},
   "outputs": [],
   "source": [
    "\n",
    "# Construa a URL da API para obter temperaturas horárias\n",
    "url = \"https://archive-api.open-meteo.com/v1/archive?latitude=-22.9068&longitude=-43.1729&start_date=2024-01-01&end_date=2024-08-01&daily=temperature_2m_max,temperature_2m_min&timezone=America/Sao_Paulo\"\n",
    "\n"
   ]
  },
  {
   "cell_type": "code",
   "execution_count": 171,
   "id": "5632ab74-e62d-449a-8916-b3c26b4fb4dc",
   "metadata": {},
   "outputs": [],
   "source": [
    "# Faça a requisição\n",
    "response = requests.get(url)\n",
    "data = response.json()\n",
    "\n",
    "#print(data)"
   ]
  },
  {
   "cell_type": "code",
   "execution_count": 172,
   "id": "4249eafb-950f-4952-9dbe-9e507422e865",
   "metadata": {},
   "outputs": [],
   "source": [
    "# Extrair datas e temperaturas máximas e mínimas\n",
    "dates = data['daily']['time']\n",
    "temps_max = data['daily']['temperature_2m_max']\n",
    "temps_min = data['daily']['temperature_2m_min']\n",
    "\n",
    "# Criar DataFrame com os dados\n",
    "df = pd.DataFrame({'date': dates, 'temp_max': temps_max, 'temp_min': temps_min})\n",
    "#print(df)"
   ]
  },
  {
   "cell_type": "code",
   "execution_count": 173,
   "id": "b994c3d1-83a7-4cb3-b081-084f44905b3f",
   "metadata": {},
   "outputs": [
    {
     "name": "stdout",
     "output_type": "stream",
     "text": [
      "Temperatura média mensal no Rio de Janeiro (2024):\n",
      "month\n",
      "2024-01    27.104839\n",
      "2024-02    27.722414\n",
      "2024-03    26.891935\n",
      "2024-04    25.650000\n",
      "2024-05    25.583871\n",
      "2024-06    23.236667\n",
      "2024-07    21.674194\n",
      "2024-08    21.800000\n",
      "Freq: M, Name: temp_avg, dtype: float64\n"
     ]
    }
   ],
   "source": [
    "# Calcular a temperatura média diária\n",
    "df['temp_avg'] = (df['temp_max'] + df['temp_min']) / 2\n",
    "\n",
    "# Converter a coluna de datas para o formato de data\n",
    "df['date'] = pd.to_datetime(df['date'])\n",
    "\n",
    "# Criar uma coluna de mês-ano\n",
    "df['month'] = df['date'].dt.to_period('M')\n",
    "#print(df)\n",
    "\n",
    "# Calcular a média mensal de temperatura\n",
    "monthly_avg = df.groupby('month')['temp_avg'].mean()\n",
    "\n",
    "# Exibir resultados\n",
    "print(\"Temperatura média mensal no Rio de Janeiro (2024):\")\n",
    "print(monthly_avg)"
   ]
  },
  {
   "cell_type": "code",
   "execution_count": 190,
   "id": "afb24cbf-cc18-4b68-bf9a-1c3c6c4c30be",
   "metadata": {},
   "outputs": [],
   "source": [
    "#pergunta 5\n",
    "#recriando a URL para extrair os códigos meteorológicos\n",
    "url = \"https://archive-api.open-meteo.com/v1/archive?latitude=-22.9068&longitude=-43.1729&start_date=2024-01-01&end_date=2024-08-01&daily=weather_code&timezone=America/Sao_Paulo\"\n",
    "response = requests.get(url)\n",
    "data = response.json()\n",
    "# Extraindo os dados\n",
    "dates = pd.to_datetime(data['daily']['time'])\n",
    "#print(data)\n",
    "weather_codes = data['daily']['weather_code']\n",
    "\n",
    "# Criar DataFrame\n",
    "df = pd.DataFrame({'date': dates, 'weather_code': weather_codes})\n",
    "df['month'] = df['date'].dt.strftime('%Y-%m')\n",
    "\n",
    "# Dicionário de mapeamento dos códigos meteorológicos\n",
    "tempo_desc = {\n",
    "    0: \"Céu limpo\",\n",
    "    1: \"Principalmente limpo\",\n",
    "    2: \"Parcialmente nublado\",\n",
    "    3: \"Nublado\",\n",
    "    45: \"Nevoeiro\",\n",
    "    48: \"Nevoeiro com geada\",\n",
    "    51: \"Chuvisco leve\",\n",
    "    53: \"Chuvisco moderado\",\n",
    "    55: \"Chuvisco forte\",\n",
    "    61: \"Chuva leve\",\n",
    "    63: \"Chuva moderada\",\n",
    "    65: \"Chuva forte\",\n",
    "    80: \"Pancadas de chuva leves\",\n",
    "    81: \"Pancadas de chuva moderadas\",\n",
    "    82: \"Pancadas de chuva fortes\",\n",
    "    95: \"Tempestade\",\n",
    "    96: \"Tempestade com granizo leve\",\n",
    "    99: \"Tempestade com granizo forte\"\n",
    "}"
   ]
  },
  {
   "cell_type": "code",
   "execution_count": 192,
   "id": "6d0513db-1844-4d51-86f2-f03b6dffc972",
   "metadata": {},
   "outputs": [
    {
     "name": "stdout",
     "output_type": "stream",
     "text": [
      "Mês: 2024-01, Tempo predominante: Chuva moderada\n",
      "Mês: 2024-02, Tempo predominante: Chuvisco leve\n",
      "Mês: 2024-03, Tempo predominante: Chuvisco leve\n",
      "Mês: 2024-04, Tempo predominante: Nublado\n",
      "Mês: 2024-05, Tempo predominante: Chuvisco leve\n",
      "Mês: 2024-06, Tempo predominante: Nublado\n",
      "Mês: 2024-07, Tempo predominante: Nublado\n",
      "Mês: 2024-08, Tempo predominante: Nublado\n"
     ]
    }
   ],
   "source": [
    "# Determinar o tempo predominante por mês\n",
    "predominante_por_mes = {}\n",
    "for month, group in df.groupby('month'):\n",
    "    contagem = Counter(group['weather_code'])\n",
    "    tempo_mais_frequente = contagem.most_common(1)[0][0]\n",
    "    predominante_por_mes[month] = tempo_desc.get(tempo_mais_frequente, \"Desconhecido\")\n",
    "\n",
    "# Exibir os resultados\n",
    "for mes, tempo in predominante_por_mes.items():\n",
    "    print(f\"Mês: {mes}, Tempo predominante: {tempo}\")\n"
   ]
  },
  {
   "cell_type": "code",
   "execution_count": 239,
   "id": "e2eb42b8-583d-448c-8d36-03efe8bbe932",
   "metadata": {},
   "outputs": [
    {
     "name": "stdout",
     "output_type": "stream",
     "text": [
      "                                 Feriado        Data  Temp. Média (°C)  \\\n",
      "0             Confraternização Universal  2024-01-01             24.85   \n",
      "1                               Carnaval  2024-02-12             30.80   \n",
      "2                               Carnaval  2024-02-13             31.15   \n",
      "3                      Sexta-feira Santa  2024-03-29             25.70   \n",
      "4                      Domingo de Páscoa  2024-03-31             24.70   \n",
      "5                      Dia de Tiradentes  2024-04-21             23.50   \n",
      "6                     Dia do Trabalhador  2024-05-01             28.35   \n",
      "7                         Corpus Christi  2024-05-30             20.90   \n",
      "8   Revolução Constitucionalista de 1932  2024-07-09             21.95   \n",
      "9                   Dia da Independência  2024-09-07             24.90   \n",
      "10               Nossa Senhora Aparecida  2024-10-12             27.80   \n",
      "11                        Dia de Finados  2024-11-02             25.15   \n",
      "12              Proclamação da República  2024-11-15             23.95   \n",
      "13              Dia da Consciência Negra  2024-11-20             25.60   \n",
      "14                                 Natal  2024-12-25             27.55   \n",
      "\n",
      "      Tempo predominante  \n",
      "0          Chuvisco leve  \n",
      "1                Nublado  \n",
      "2          Chuvisco leve  \n",
      "3             Chuva leve  \n",
      "4      Chuvisco moderado  \n",
      "5   Parcialmente nublado  \n",
      "6              Céu limpo  \n",
      "7          Chuvisco leve  \n",
      "8      Chuvisco moderado  \n",
      "9                Nublado  \n",
      "10        Chuva moderada  \n",
      "11         Chuvisco leve  \n",
      "12     Chuvisco moderado  \n",
      "13               Nublado  \n",
      "14               Nublado  \n"
     ]
    }
   ],
   "source": [
    "#perguntas 6, 7 e 8 - Implementando parelelização nas rotinas de requisição para acelerar\n",
    "import concurrent.futures\n",
    "\n",
    "# Lista para armazenar os resultados\n",
    "resultados = []\n",
    "\n",
    "# Função para buscar o clima de um feriado\n",
    "def obter_clima(feriado):\n",
    "    data_feriado = feriado['date']  # Formato YYYY-MM-DD\n",
    "    nome_feriado = feriado['localName']\n",
    "\n",
    "    # Chamar API Open-Meteo para obter dados do clima\n",
    "    url_clima = f\"https://archive-api.open-meteo.com/v1/archive?latitude=-22.9068&longitude=-43.1729&daily=temperature_2m_max,temperature_2m_min,weather_code&timezone=America/Sao_Paulo&start_date={data_feriado}&end_date={data_feriado}\"\n",
    "    \n",
    "    try:\n",
    "        response_clima = requests.get(url_clima, timeout=10)  # Timeout de 10s para evitar travamentos\n",
    "        response_clima.raise_for_status()  # Levanta erro se a resposta não for 200 OK\n",
    "        clima_data = response_clima.json()\n",
    "\n",
    "        if \"daily\" in clima_data:\n",
    "            temp_max = clima_data['daily']['temperature_2m_max'][0]\n",
    "            temp_min = clima_data['daily']['temperature_2m_min'][0]\n",
    "            \n",
    "            if temp_max is not None and temp_min is not None:\n",
    "                temp_media = (temp_max + temp_min) / 2  # Média entre máxima e mínima\n",
    "            else:\n",
    "                temp_media = None\n",
    "\n",
    "            weather_code = clima_data['daily']['weather_code'][0]  # Código do tempo\n",
    "            tempo_predominante = tempo_desc.get(weather_code, 'Desconhecido')\n",
    "\n",
    "            return {\n",
    "                \"Feriado\": nome_feriado,\n",
    "                \"Data\": data_feriado,\n",
    "                \"Temp. Média (°C)\": temp_media,\n",
    "                \"Tempo predominante\": tempo_predominante\n",
    "            }\n",
    "    except requests.RequestException as e:\n",
    "        print(f\"Erro ao obter clima para {data_feriado}: {e}\")\n",
    "        return None\n",
    "\n",
    "# Executar as requisições em paralelo\n",
    "with concurrent.futures.ThreadPoolExecutor(max_workers=10) as executor:\n",
    "    resultados = list(filter(None, executor.map(obter_clima, feriados)))\n",
    "\n",
    "# Criar DataFrame e exibir resultados\n",
    "df_resultados = pd.DataFrame(resultados)\n",
    "print(df_resultados)\n"
   ]
  },
  {
   "cell_type": "code",
   "execution_count": null,
   "id": "af5c88f1-6bde-4cc4-b51d-012fe32d149b",
   "metadata": {},
   "outputs": [],
   "source": []
  },
  {
   "cell_type": "code",
   "execution_count": null,
   "id": "f57b3ddb-8208-49fa-b998-08df04177a21",
   "metadata": {},
   "outputs": [],
   "source": []
  }
 ],
 "metadata": {
  "kernelspec": {
   "display_name": "Python [conda env:base] *",
   "language": "python",
   "name": "conda-base-py"
  },
  "language_info": {
   "codemirror_mode": {
    "name": "ipython",
    "version": 3
   },
   "file_extension": ".py",
   "mimetype": "text/x-python",
   "name": "python",
   "nbconvert_exporter": "python",
   "pygments_lexer": "ipython3",
   "version": "3.12.7"
  }
 },
 "nbformat": 4,
 "nbformat_minor": 5
}
